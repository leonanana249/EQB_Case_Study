{
 "cells": [
  {
   "cell_type": "code",
   "execution_count": 8,
   "metadata": {},
   "outputs": [],
   "source": [
    "import numpy as np\n",
    "import pandas as pd\n"
   ]
  },
  {
   "cell_type": "code",
   "execution_count": 9,
   "metadata": {},
   "outputs": [],
   "source": [
    "# load data into df\n",
    "volumes_df = pd.read_csv('origination_volumes.csv')\n",
    "rates_df = pd.read_csv('loss_rates.csv')"
   ]
  },
  {
   "cell_type": "code",
   "execution_count": 10,
   "metadata": {},
   "outputs": [],
   "source": [
    "# merge reporting date and portfolio to a new columne \n",
    "volumes_df ['Index'] = volumes_df ['Reporting_Date'].astype(str) + volumes_df ['Portfolio']\n",
    "rates_df ['Index'] = rates_df ['reporting_date'].astype(str) + rates_df  ['portfolio']"
   ]
  },
  {
   "cell_type": "code",
   "execution_count": 11,
   "metadata": {},
   "outputs": [],
   "source": [
    "# Join two tables by left join \n",
    "predicted_loss_df = pd.merge(volumes_df, rates_df, how = \"left\")\n",
    "\n",
    "# leave to user if dropna is preferred \n",
    "# predicted_loss_df.dropna()"
   ]
  },
  {
   "cell_type": "code",
   "execution_count": 12,
   "metadata": {},
   "outputs": [],
   "source": [
    "# calculate predicted loss = loan value * expected lose rate \n",
    "predicted_loss_df ['predicted_losses'] = predicted_loss_df ['Total_Loan_Value_Originated'] * predicted_loss_df ['expected_losses'] "
   ]
  },
  {
   "cell_type": "code",
   "execution_count": 39,
   "metadata": {},
   "outputs": [
    {
     "data": {
      "text/html": [
       "<div>\n",
       "<style scoped>\n",
       "    .dataframe tbody tr th:only-of-type {\n",
       "        vertical-align: middle;\n",
       "    }\n",
       "\n",
       "    .dataframe tbody tr th {\n",
       "        vertical-align: top;\n",
       "    }\n",
       "\n",
       "    .dataframe thead th {\n",
       "        text-align: right;\n",
       "    }\n",
       "</style>\n",
       "<table border=\"1\" class=\"dataframe\">\n",
       "  <thead>\n",
       "    <tr style=\"text-align: right;\">\n",
       "      <th></th>\n",
       "      <th>Reporting_Date</th>\n",
       "      <th>Portfolio</th>\n",
       "      <th>Lender_Type</th>\n",
       "      <th>Insurance_Status</th>\n",
       "      <th>Dimension</th>\n",
       "      <th>Category</th>\n",
       "      <th>Total_Loan_Value_Originated</th>\n",
       "      <th>Index</th>\n",
       "      <th>reporting_date</th>\n",
       "      <th>portfolio</th>\n",
       "      <th>expected_losses</th>\n",
       "      <th>predicted_losses</th>\n",
       "      <th>filter</th>\n",
       "    </tr>\n",
       "  </thead>\n",
       "  <tbody>\n",
       "    <tr>\n",
       "      <th>0</th>\n",
       "      <td>2022-03-31</td>\n",
       "      <td>mtg</td>\n",
       "      <td>Chartered Bank</td>\n",
       "      <td>Insured</td>\n",
       "      <td>Credit Score Range</td>\n",
       "      <td>0 &lt; 599</td>\n",
       "      <td>43478000.0</td>\n",
       "      <td>2022-03-31mtg</td>\n",
       "      <td>NaN</td>\n",
       "      <td>NaN</td>\n",
       "      <td>NaN</td>\n",
       "      <td>NaN</td>\n",
       "      <td>False</td>\n",
       "    </tr>\n",
       "    <tr>\n",
       "      <th>1</th>\n",
       "      <td>2022-03-31</td>\n",
       "      <td>mtg</td>\n",
       "      <td>Chartered Bank</td>\n",
       "      <td>Insured</td>\n",
       "      <td>Credit Score Range</td>\n",
       "      <td>600 &lt; 649</td>\n",
       "      <td>185552000.0</td>\n",
       "      <td>2022-03-31mtg</td>\n",
       "      <td>NaN</td>\n",
       "      <td>NaN</td>\n",
       "      <td>NaN</td>\n",
       "      <td>NaN</td>\n",
       "      <td>False</td>\n",
       "    </tr>\n",
       "    <tr>\n",
       "      <th>2</th>\n",
       "      <td>2022-03-31</td>\n",
       "      <td>mtg</td>\n",
       "      <td>Chartered Bank</td>\n",
       "      <td>Uninsured</td>\n",
       "      <td>Credit Score Range</td>\n",
       "      <td>0 &lt; 599</td>\n",
       "      <td>NaN</td>\n",
       "      <td>2022-03-31mtg</td>\n",
       "      <td>NaN</td>\n",
       "      <td>NaN</td>\n",
       "      <td>NaN</td>\n",
       "      <td>NaN</td>\n",
       "      <td>False</td>\n",
       "    </tr>\n",
       "    <tr>\n",
       "      <th>3</th>\n",
       "      <td>2022-03-31</td>\n",
       "      <td>mtg</td>\n",
       "      <td>Chartered Bank</td>\n",
       "      <td>Uninsured</td>\n",
       "      <td>Credit Score Range</td>\n",
       "      <td>No Score</td>\n",
       "      <td>NaN</td>\n",
       "      <td>2022-03-31mtg</td>\n",
       "      <td>NaN</td>\n",
       "      <td>NaN</td>\n",
       "      <td>NaN</td>\n",
       "      <td>NaN</td>\n",
       "      <td>False</td>\n",
       "    </tr>\n",
       "    <tr>\n",
       "      <th>4</th>\n",
       "      <td>2022-03-31</td>\n",
       "      <td>mtg</td>\n",
       "      <td>Chartered Bank</td>\n",
       "      <td>Uninsured</td>\n",
       "      <td>Credit Score Range</td>\n",
       "      <td>750 or greater</td>\n",
       "      <td>NaN</td>\n",
       "      <td>2022-03-31mtg</td>\n",
       "      <td>NaN</td>\n",
       "      <td>NaN</td>\n",
       "      <td>NaN</td>\n",
       "      <td>NaN</td>\n",
       "      <td>False</td>\n",
       "    </tr>\n",
       "  </tbody>\n",
       "</table>\n",
       "</div>"
      ],
      "text/plain": [
       "  Reporting_Date Portfolio     Lender_Type Insurance_Status  \\\n",
       "0     2022-03-31       mtg  Chartered Bank          Insured   \n",
       "1     2022-03-31       mtg  Chartered Bank          Insured   \n",
       "2     2022-03-31       mtg  Chartered Bank        Uninsured   \n",
       "3     2022-03-31       mtg  Chartered Bank        Uninsured   \n",
       "4     2022-03-31       mtg  Chartered Bank        Uninsured   \n",
       "\n",
       "            Dimension        Category  Total_Loan_Value_Originated  \\\n",
       "0  Credit Score Range         0 < 599                   43478000.0   \n",
       "1  Credit Score Range       600 < 649                  185552000.0   \n",
       "2  Credit Score Range         0 < 599                          NaN   \n",
       "3  Credit Score Range        No Score                          NaN   \n",
       "4  Credit Score Range  750 or greater                          NaN   \n",
       "\n",
       "           Index reporting_date portfolio  expected_losses  predicted_losses  \\\n",
       "0  2022-03-31mtg            NaN       NaN              NaN               NaN   \n",
       "1  2022-03-31mtg            NaN       NaN              NaN               NaN   \n",
       "2  2022-03-31mtg            NaN       NaN              NaN               NaN   \n",
       "3  2022-03-31mtg            NaN       NaN              NaN               NaN   \n",
       "4  2022-03-31mtg            NaN       NaN              NaN               NaN   \n",
       "\n",
       "   filter  \n",
       "0   False  \n",
       "1   False  \n",
       "2   False  \n",
       "3   False  \n",
       "4   False  "
      ]
     },
     "execution_count": 39,
     "metadata": {},
     "output_type": "execute_result"
    }
   ],
   "source": [
    "#filter 2016 data \n",
    "predicted_loss_df ['filter'] = predicted_loss_df['Index'].str.contains('2016', case=False, na='1')\n",
    "\n",
    "#predicted_loss_df.drop('filter')\n",
    "\n",
    "# sum predicted loss = total predicted loss in 2016\n",
    "sum_loss_df= predicted_loss_df.groupby('filter')['predicted_losses'].sum()\n",
    "\n",
    "# rename index to non-target and 2016\n",
    "per_year= sum_loss_df.rename(index={False: 'Non-Target Years',True: '2016'})\n"
   ]
  },
  {
   "cell_type": "code",
   "execution_count": 38,
   "metadata": {},
   "outputs": [],
   "source": [
    "with pd.ExcelWriter('Predicted_Losses.xlsx') as writer:\n",
    "    predicted_loss_df.to_excel(writer, sheet_name='joined_output', index = False)\n",
    "    per_year.to_excel(writer, sheet_name='Total_Predicted_Losses_Summary')"
   ]
  }
 ],
 "metadata": {
  "kernelspec": {
   "display_name": "PythonData",
   "language": "python",
   "name": "python3"
  },
  "language_info": {
   "codemirror_mode": {
    "name": "ipython",
    "version": 3
   },
   "file_extension": ".py",
   "mimetype": "text/x-python",
   "name": "python",
   "nbconvert_exporter": "python",
   "pygments_lexer": "ipython3",
   "version": "3.7.13"
  },
  "orig_nbformat": 4,
  "vscode": {
   "interpreter": {
    "hash": "aea0337c3eaab6457217bf6cc3944ea4e44d35084c65bc95c6895625dd074248"
   }
  }
 },
 "nbformat": 4,
 "nbformat_minor": 2
}
